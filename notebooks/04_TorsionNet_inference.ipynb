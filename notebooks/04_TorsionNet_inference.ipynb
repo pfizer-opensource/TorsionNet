{
 "cells": [
  {
   "cell_type": "code",
   "execution_count": 1,
   "metadata": {},
   "outputs": [],
   "source": [
    "import sys\n",
    "import time\n",
    "import pickle\n",
    "import numpy as np\n",
    "from tqdm import tqdm\n",
    "from pathlib import Path\n",
    "\n",
    "import tensorflow as tf\n",
    "import matplotlib.pyplot as plt\n",
    "\n",
    "from openeye import oechem, oedepict, oeomega, oeszybki\n",
    "import oenotebook as oenb\n",
    "assert oechem.OEChemIsLicensed(), \"OpenEye License not found!\""
   ]
  },
  {
   "cell_type": "code",
   "execution_count": 2,
   "metadata": {},
   "outputs": [],
   "source": [
    "%matplotlib inline"
   ]
  },
  {
   "cell_type": "code",
   "execution_count": 3,
   "metadata": {},
   "outputs": [],
   "source": [
    "font = {'family': 'Arial',\n",
    "        'weight': 'normal',\n",
    "        'size': 14}\n",
    "plt.rc('font', **font)"
   ]
  },
  {
   "cell_type": "code",
   "execution_count": 4,
   "metadata": {},
   "outputs": [],
   "source": [
    "sys.path.append(str(Path().resolve().parent))"
   ]
  },
  {
   "cell_type": "code",
   "execution_count": 5,
   "metadata": {},
   "outputs": [],
   "source": [
    "from torsion.utils.process_sd_data import dump_sd_data, get_sd_data\n",
    "from torsion.dihedral import get_dihedral\n",
    "from torsion.utils.plotting import oenb_draw_dihedral\n",
    "from torsion.inchi_keys import get_specific_dihedral_inchi_key\n",
    "from torsion.model import get_sf_elements, get_model"
   ]
  },
  {
   "cell_type": "markdown",
   "metadata": {},
   "source": [
    "In this notebook, we will use TorsionNet to generate a torsional energy profile for a torsional fragment. We will pick one of the fragments for which we already have QM data."
   ]
  },
  {
   "cell_type": "markdown",
   "metadata": {},
   "source": [
    "### Pick a fragment"
   ]
  },
  {
   "cell_type": "code",
   "execution_count": 6,
   "metadata": {},
   "outputs": [],
   "source": [
    "qm_confs = \"../data/TorsionNet500_qm_opt_geometries.sdf\"\n",
    "ANGLE_TAG  = \"TORSION_ANGLE\"\n",
    "ENERGY_TAG = \"Energy\""
   ]
  },
  {
   "cell_type": "code",
   "execution_count": 7,
   "metadata": {},
   "outputs": [
    {
     "name": "stdout",
     "output_type": "stream",
     "text": [
      "Read QM conformer no.  12000\n",
      "in 15s\n"
     ]
    }
   ],
   "source": [
    "qm_ifs = oechem.oemolistream()\n",
    "if not qm_ifs.open(qm_confs):\n",
    "    raise ValueError(f\"Unable to open {qm_confs} for reading.\")\n",
    "\n",
    "qm_conformer_list = []\n",
    "qm_conformer_name_list = []\n",
    "start_time = time.time()\n",
    "angle = []\n",
    "qm_energy = []\n",
    "for mol_no, mol in enumerate(qm_ifs.GetOEGraphMols()):\n",
    "    if (mol_no+1) % 1000 == 0:\n",
    "        print(f\"Read QM conformer no. {mol_no+1:6d}\", end='\\r', flush=True)\n",
    "    qm_conformer_name = get_specific_dihedral_inchi_key(mol) + '-' + str(int(get_sd_data(mol, 'TORSION_ANGLE')) % 360)\n",
    "    qm_conformer_name_list.append(qm_conformer_name)\n",
    "    angle.append(float(get_sd_data(mol, ANGLE_TAG)))\n",
    "    qm_energy.append(float(get_sd_data(mol, ENERGY_TAG)))\n",
    "    qm_conformer_list.append(oechem.OEGraphMol(mol))\n",
    "print(f\"\\nin {time.time() - start_time:.0f}s\")\n",
    "qm_energy = np.array(qm_energy).reshape((-1, 24))\n",
    "qm_energy -= np.expand_dims(qm_energy.min(axis=1), axis=1)\n",
    "angle = np.array(angle).reshape((-1, 24))"
   ]
  },
  {
   "cell_type": "code",
   "execution_count": 8,
   "metadata": {},
   "outputs": [],
   "source": [
    "unique_conformer_name_list = ['-'.join(x.split('-')[:-1]) for x in qm_conformer_name_list]\n",
    "N_frags = len(set(unique_conformer_name_list))"
   ]
  },
  {
   "cell_type": "markdown",
   "metadata": {},
   "source": [
    "Let's pick one of our fragments:"
   ]
  },
  {
   "cell_type": "code",
   "execution_count": 9,
   "metadata": {},
   "outputs": [
    {
     "name": "stdout",
     "output_type": "stream",
     "text": [
      "SMILES string for fragment: c1ccc2c(c1)ncn2c3ccccn3\n"
     ]
    },
    {
     "data": {
      "image/png": "[encoded data removed]",
      "text/plain": [
       "<IPython.core.display.Image object>"
      ]
     },
     "execution_count": 9,
     "metadata": {},
     "output_type": "execute_result"
    }
   ],
   "source": [
    "frag_idx = 42\n",
    "assert 0 <= frag_idx < N_frags, f\"Pick a fragment index between 0 and {N_frags-1}\"\n",
    "\n",
    "smi = oechem.OEMolToSmiles(qm_conformer_list[frag_idx*24])\n",
    "print(f\"SMILES string for fragment: {smi}\")\n",
    "oenb_draw_dihedral(qm_conformer_list[frag_idx*24])"
   ]
  },
  {
   "cell_type": "code",
   "execution_count": 10,
   "metadata": {},
   "outputs": [],
   "source": [
    "y_qm = qm_energy[frag_idx]"
   ]
  },
  {
   "cell_type": "markdown",
   "metadata": {},
   "source": [
    "### Start from SMILES and one torsion of interest"
   ]
  },
  {
   "cell_type": "markdown",
   "metadata": {},
   "source": [
    "Now let's start from the SMILES string and generate a torsional profile."
   ]
  },
  {
   "cell_type": "code",
   "execution_count": 11,
   "metadata": {},
   "outputs": [
    {
     "data": {
      "image/png": "[encoded data removed]",
      "text/plain": [
       "<IPython.core.display.Image object>"
      ]
     },
     "execution_count": 11,
     "metadata": {},
     "output_type": "execute_result"
    }
   ],
   "source": [
    "mol = oechem.OEMol()\n",
    "oechem.OESmilesToMol(mol, smi)\n",
    "\n",
    "# Build 3D conformer\n",
    "builder = oeomega.OEConformerBuilder()\n",
    "ret_code = builder.Build(mol)\n",
    "if not ret_code == oeomega.OEOmegaReturnCode_Success:\n",
    "    oechem.OEThrow.Warning(\"%s: %s\" % (mol.GetTitle(), oeomega.OEGetOmegaError(ret_code)))\n",
    "\n",
    "opts = oedepict.OE2DMolDisplayOptions()\n",
    "opts = oedepict.OE2DMolDisplayOptions(300, 300, oedepict.OEScale_AutoScale)\n",
    "opts.SetAtomPropertyFunctor(oedepict.OEDisplayAtomIdx())\n",
    "oenb.draw_mol(mol, opts=opts)"
   ]
  },
  {
   "cell_type": "markdown",
   "metadata": {},
   "source": [
    "Let's mark our torsion atoms"
   ]
  },
  {
   "cell_type": "code",
   "execution_count": 12,
   "metadata": {},
   "outputs": [
    {
     "name": "stdout",
     "output_type": "stream",
     "text": [
      "Data Attached at the molecule level:\n",
      "TORSION_ATOMS_FRAGMENT : 11 15 12 13\n",
      "\n",
      "\n",
      "----------Data Attached to Conformers:\n",
      "Data attached to conformer 0:\n",
      "\n"
     ]
    },
    {
     "data": {
      "image/png": "[encoded data removed]",
      "text/plain": [
       "<IPython.core.display.Image object>"
      ]
     },
     "execution_count": 12,
     "metadata": {},
     "output_type": "execute_result"
    }
   ],
   "source": [
    "torsion_atom_indices = [10, 14, 11, 12]\n",
    "oechem.OESetSDData(mol, \"TORSION_ATOMS_FRAGMENT\", \" \".join(str(x+1) for x in torsion_atom_indices))\n",
    "dump_sd_data(mol)\n",
    "oenb_draw_dihedral(mol)"
   ]
  },
  {
   "cell_type": "markdown",
   "metadata": {},
   "source": [
    "### Generate Torsional Conformers"
   ]
  },
  {
   "cell_type": "code",
   "execution_count": 13,
   "metadata": {},
   "outputs": [],
   "source": [
    "num_points = 24"
   ]
  },
  {
   "cell_type": "code",
   "execution_count": 14,
   "metadata": {},
   "outputs": [],
   "source": [
    "delta = 360.0/num_points\n",
    "angle_list = np.linspace(-oechem.Pi, oechem.Pi, num_points+1)[1:]\n",
    "angle_list = angle_list.tolist()\n",
    "\n",
    "dih, _ = get_dihedral(mol, torsion_atom_indices)\n",
    "dih_atoms = [x for x in dih.GetAtoms()]\n",
    "\n",
    "# Create new output OEMol\n",
    "title = mol.GetTitle()\n",
    "tor_mol = oechem.OEMol()\n",
    "\n",
    "opts = oeszybki.OETorsionScanOptions()\n",
    "opts.SetDelta(delta)\n",
    "opts.SetForceFieldType(oeszybki.OEForceFieldType_MMFF94)\n",
    "opts.SetSolvationType(oeszybki.OESolventModel_NoSolv)\n",
    "tmp_angle = 0.0\n",
    "tor = oechem.OETorsion(dih_atoms[0], dih_atoms[1], dih_atoms[2], dih_atoms[3], tmp_angle)\n",
    "\n",
    "oeszybki.OETorsionScan(tor_mol, mol, tor, opts)\n",
    "oechem.OECopySDData(tor_mol, mol)\n",
    "\n",
    "# if 0 and 360 sampled because of rounding \n",
    "if tor_mol.NumConfs() > num_points:\n",
    "    for conf in tor_mol.GetConfs():\n",
    "        continue\n",
    "    tor_mol.DeleteConf(conf)\n",
    "\n",
    "for angle, conf in zip(angle_list, tor_mol.GetConfs()):\n",
    "    angle_deg = int(round(angle*oechem.Rad2Deg))\n",
    "    tor_mol.SetActive(conf)\n",
    "    oechem.OESetTorsion(conf, dih_atoms[0], dih_atoms[1], dih_atoms[2], dih_atoms[3], angle)\n",
    "\n",
    "    conf_name = title + '_{:02d}'.format(conf.GetIdx())\n",
    "    oechem.OESetSDData(conf, 'CONFORMER_LABEL', conf_name)\n",
    "    oechem.OESetSDData(conf, 'TORSION_ANGLE', \"{:.0f}\".format(angle_deg))\n",
    "    conf.SetDoubleData('TORSION_ANGLE', angle_deg)\n",
    "    conf.SetTitle('{}: Angle {:.0f}'.format(conf_name, angle_deg))\n"
   ]
  },
  {
   "cell_type": "code",
   "execution_count": 15,
   "metadata": {},
   "outputs": [
    {
     "data": {
      "image/png": "[encoded data removed]",
      "text/plain": [
       "<IPython.core.display.Image object>"
      ]
     },
     "execution_count": 15,
     "metadata": {},
     "output_type": "execute_result"
    }
   ],
   "source": [
    "oenb_draw_dihedral(tor_mol)"
   ]
  },
  {
   "cell_type": "code",
   "execution_count": 16,
   "metadata": {},
   "outputs": [],
   "source": [
    "torsional_mols = []\n",
    "for conf in tor_mol.GetConfs():\n",
    "    new_mol = oechem.OEMol(conf)\n",
    "    oechem.OECopySDData(new_mol, mol)\n",
    "    torsional_mols.append(new_mol)"
   ]
  },
  {
   "cell_type": "code",
   "execution_count": 17,
   "metadata": {},
   "outputs": [
    {
     "data": {
      "text/plain": [
       "[<'oechem.OEMol' _00: Angle -165 c1ccc2c(c1)ncn2c3ccccn3 >,\n",
       " <'oechem.OEMol' _01: Angle -150 c1ccc2c(c1)ncn2c3ccccn3 >,\n",
       " <'oechem.OEMol' _02: Angle -135 c1ccc2c(c1)ncn2c3ccccn3 >,\n",
       " <'oechem.OEMol' _03: Angle -120 c1ccc2c(c1)ncn2c3ccccn3 >,\n",
       " <'oechem.OEMol' _04: Angle -105 c1ccc2c(c1)ncn2c3ccccn3 >,\n",
       " <'oechem.OEMol' _05: Angle -90 c1ccc2c(c1)ncn2c3ccccn3 >,\n",
       " <'oechem.OEMol' _06: Angle -75 c1ccc2c(c1)ncn2c3ccccn3 >,\n",
       " <'oechem.OEMol' _07: Angle -60 c1ccc2c(c1)ncn2c3ccccn3 >,\n",
       " <'oechem.OEMol' _08: Angle -45 c1ccc2c(c1)ncn2c3ccccn3 >,\n",
       " <'oechem.OEMol' _09: Angle -30 c1ccc2c(c1)ncn2c3ccccn3 >,\n",
       " <'oechem.OEMol' _10: Angle -15 c1ccc2c(c1)ncn2c3ccccn3 >,\n",
       " <'oechem.OEMol' _11: Angle 0 c1ccc2c(c1)ncn2c3ccccn3 >,\n",
       " <'oechem.OEMol' _12: Angle 15 c1ccc2c(c1)ncn2c3ccccn3 >,\n",
       " <'oechem.OEMol' _13: Angle 30 c1ccc2c(c1)ncn2c3ccccn3 >,\n",
       " <'oechem.OEMol' _14: Angle 45 c1ccc2c(c1)ncn2c3ccccn3 >,\n",
       " <'oechem.OEMol' _15: Angle 60 c1ccc2c(c1)ncn2c3ccccn3 >,\n",
       " <'oechem.OEMol' _16: Angle 75 c1ccc2c(c1)ncn2c3ccccn3 >,\n",
       " <'oechem.OEMol' _17: Angle 90 c1ccc2c(c1)ncn2c3ccccn3 >,\n",
       " <'oechem.OEMol' _18: Angle 105 c1ccc2c(c1)ncn2c3ccccn3 >,\n",
       " <'oechem.OEMol' _19: Angle 120 c1ccc2c(c1)ncn2c3ccccn3 >,\n",
       " <'oechem.OEMol' _20: Angle 135 c1ccc2c(c1)ncn2c3ccccn3 >,\n",
       " <'oechem.OEMol' _21: Angle 150 c1ccc2c(c1)ncn2c3ccccn3 >,\n",
       " <'oechem.OEMol' _22: Angle 165 c1ccc2c(c1)ncn2c3ccccn3 >,\n",
       " <'oechem.OEMol' _23: Angle 180 c1ccc2c(c1)ncn2c3ccccn3 >]"
      ]
     },
     "execution_count": 17,
     "metadata": {},
     "output_type": "execute_result"
    }
   ],
   "source": [
    "torsional_mols"
   ]
  },
  {
   "cell_type": "markdown",
   "metadata": {},
   "source": [
    "### Generate Descriptors"
   ]
  },
  {
   "cell_type": "code",
   "execution_count": 18,
   "metadata": {},
   "outputs": [
    {
     "name": "stderr",
     "output_type": "stream",
     "text": [
      "100%|██████████| 24/24 [00:00<00:00, 34.73it/s]\n"
     ]
    }
   ],
   "source": [
    "X = []\n",
    "for x in tqdm(torsional_mols):\n",
    "    X.append(get_sf_elements(x))\n",
    "X = np.array(X)"
   ]
  },
  {
   "cell_type": "code",
   "execution_count": 19,
   "metadata": {},
   "outputs": [
    {
     "data": {
      "text/plain": [
       "(24, 293)"
      ]
     },
     "execution_count": 19,
     "metadata": {},
     "output_type": "execute_result"
    }
   ],
   "source": [
    "X.shape"
   ]
  },
  {
   "cell_type": "code",
   "execution_count": 20,
   "metadata": {},
   "outputs": [],
   "source": [
    "scaler_file = 'scaler.pkl'"
   ]
  },
  {
   "cell_type": "code",
   "execution_count": 21,
   "metadata": {},
   "outputs": [],
   "source": [
    "with open(scaler_file, 'rb') as fptr:\n",
    "    scaler = pickle.load(fptr)\n",
    "X = scaler.transform(X)    "
   ]
  },
  {
   "cell_type": "markdown",
   "metadata": {},
   "source": [
    "### Make predictions"
   ]
  },
  {
   "cell_type": "code",
   "execution_count": 22,
   "metadata": {},
   "outputs": [],
   "source": [
    "model_file = 'model.h5'"
   ]
  },
  {
   "cell_type": "code",
   "execution_count": 23,
   "metadata": {},
   "outputs": [
    {
     "name": "stdout",
     "output_type": "stream",
     "text": [
      "Model: \"sequential\"\n",
      "_________________________________________________________________\n",
      "Layer (type)                 Output Shape              Param #   \n",
      "=================================================================\n",
      "dense (Dense)                (None, 2930)              861420    \n",
      "_________________________________________________________________\n",
      "batch_normalization (BatchNo (None, 2930)              11720     \n",
      "_________________________________________________________________\n",
      "dropout (Dropout)            (None, 2930)              0         \n",
      "_________________________________________________________________\n",
      "dense_1 (Dense)              (None, 1465)              4293915   \n",
      "_________________________________________________________________\n",
      "batch_normalization_1 (Batch (None, 1465)              5860      \n",
      "_________________________________________________________________\n",
      "dropout_1 (Dropout)          (None, 1465)              0         \n",
      "_________________________________________________________________\n",
      "dense_2 (Dense)              (None, 293)               429538    \n",
      "_________________________________________________________________\n",
      "batch_normalization_2 (Batch (None, 293)               1172      \n",
      "_________________________________________________________________\n",
      "dropout_2 (Dropout)          (None, 293)               0         \n",
      "_________________________________________________________________\n",
      "dense_3 (Dense)              (None, 58)                17052     \n",
      "_________________________________________________________________\n",
      "dropout_3 (Dropout)          (None, 58)                0         \n",
      "_________________________________________________________________\n",
      "dense_4 (Dense)              (None, 1)                 59        \n",
      "=================================================================\n",
      "Total params: 5,620,736\n",
      "Trainable params: 5,611,360\n",
      "Non-trainable params: 9,376\n",
      "_________________________________________________________________\n",
      "None\n"
     ]
    }
   ],
   "source": [
    "model = tf.keras.models.load_model(model_file)\n",
    "print(model.summary())"
   ]
  },
  {
   "cell_type": "code",
   "execution_count": 24,
   "metadata": {},
   "outputs": [],
   "source": [
    "y_pred = model.predict(X).flatten()\n",
    "y_pred -= y_pred.min()"
   ]
  },
  {
   "cell_type": "code",
   "execution_count": 25,
   "metadata": {},
   "outputs": [
    {
     "data": {
      "text/plain": [
       "array([1.0792285 , 0.4540347 , 0.27242333, 2.0337684 , 3.930876  ,\n",
       "       4.8680935 , 4.749976  , 2.147114  , 1.0135015 , 0.5080031 ,\n",
       "       0.5699425 , 1.047332  , 1.7667468 , 1.2362846 , 2.1199944 ,\n",
       "       3.4932525 , 4.3059325 , 4.2198305 , 3.757469  , 1.8737566 ,\n",
       "       0.26430243, 0.        , 0.3084569 , 1.2566639 ], dtype=float32)"
      ]
     },
     "execution_count": 25,
     "metadata": {},
     "output_type": "execute_result"
    }
   ],
   "source": [
    "y_pred"
   ]
  },
  {
   "cell_type": "code",
   "execution_count": 26,
   "metadata": {},
   "outputs": [
    {
     "data": {
      "image/png": "[encoded data removed]",
      "text/plain": [
       "<Figure size 396x324 with 1 Axes>"
      ]
     },
     "metadata": {
      "needs_background": "light"
     },
     "output_type": "display_data"
    }
   ],
   "source": [
    "angles = [(x*180/np.pi) for x in angle_list]\n",
    "\n",
    "fig = plt.figure(figsize=(2*2.75,2*2.25))\n",
    "ax = fig.add_subplot(111)\n",
    "ax.plot(angles, y_qm, 'b-', label='QM')\n",
    "ax.plot(angles, y_pred, 'r-', label='TorsionNet')\n",
    "ax.set_xticks([-90, 0, 90])\n",
    "ax.set_xlim([-180, 180])\n",
    "ax.set_xlabel(r\"$\\theta (^o)$\")\n",
    "ax.set_ylabel(\"Rel. Energy\")\n",
    "ax.legend(loc='best')\n",
    "fig.tight_layout()"
   ]
  }
 ],
 "metadata": {
  "kernelspec": {
   "display_name": "Python 3",
   "language": "python",
   "name": "python3"
  },
  "language_info": {
   "codemirror_mode": {
    "name": "ipython",
    "version": 3
   },
   "file_extension": ".py",
   "mimetype": "text/x-python",
   "name": "python",
   "nbconvert_exporter": "python",
   "pygments_lexer": "ipython3",
   "version": "3.7.9"
  }
 },
 "nbformat": 4,
 "nbformat_minor": 4
}
